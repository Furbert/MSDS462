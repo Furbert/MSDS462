{
  "nbformat": 4,
  "nbformat_minor": 0,
  "metadata": {
    "colab": {
      "name": "Google API.ipynb",
      "provenance": [],
      "collapsed_sections": [],
      "authorship_tag": "ABX9TyPtspJxD0RS8v010YpHzDDI",
      "include_colab_link": true
    },
    "kernelspec": {
      "name": "python3",
      "display_name": "Python 3"
    }
  },
  "cells": [
    {
      "cell_type": "markdown",
      "metadata": {
        "id": "view-in-github",
        "colab_type": "text"
      },
      "source": [
        "<a href=\"https://colab.research.google.com/github/Furbert/MSDS462/blob/master/Google_API.ipynb\" target=\"_parent\"><img src=\"https://colab.research.google.com/assets/colab-badge.svg\" alt=\"Open In Colab\"/></a>"
      ]
    },
    {
      "cell_type": "code",
      "metadata": {
        "id": "y61zET04E0dO",
        "colab_type": "code",
        "outputId": "eb748c26-aff8-477e-d2e9-9e4bacde6280",
        "colab": {
          "base_uri": "https://localhost:8080/",
          "height": 34
        }
      },
      "source": [
        "from google.colab import drive\n",
        "drive.mount('/content/gdrive' , force_remount=True)"
      ],
      "execution_count": 0,
      "outputs": [
        {
          "output_type": "stream",
          "text": [
            "Mounted at /content/gdrive\n"
          ],
          "name": "stdout"
        }
      ]
    },
    {
      "cell_type": "code",
      "metadata": {
        "id": "HE9bgszP3Vyk",
        "colab_type": "code",
        "outputId": "fd6fac10-107b-40ab-9418-55db0202ca50",
        "colab": {
          "base_uri": "https://localhost:8080/",
          "height": 34
        }
      },
      "source": [
        "import os;os.listdir('/content/gdrive/My Drive/Google_Cred')"
      ],
      "execution_count": 0,
      "outputs": [
        {
          "output_type": "execute_result",
          "data": {
            "text/plain": [
              "['GoogleAPI.json']"
            ]
          },
          "metadata": {
            "tags": []
          },
          "execution_count": 6
        }
      ]
    },
    {
      "cell_type": "code",
      "metadata": {
        "id": "YBkxgs-836fD",
        "colab_type": "code",
        "colab": {}
      },
      "source": [
        "os.environ['GOOGLE_APPLICATION_CREDENTIALS'] = '/content/gdrive/My Drive/Google_Cred/GoogleAPI.json'"
      ],
      "execution_count": 0,
      "outputs": []
    },
    {
      "cell_type": "code",
      "metadata": {
        "id": "5e0kGCClFJLz",
        "colab_type": "code",
        "outputId": "ce846f97-12a3-4030-8f94-cc412a905a2f",
        "colab": {
          "base_uri": "https://localhost:8080/",
          "height": 497
        }
      },
      "source": [
        "!pip install google-cloud-vision"
      ],
      "execution_count": 0,
      "outputs": [
        {
          "output_type": "stream",
          "text": [
            "Collecting google-cloud-vision\n",
            "\u001b[?25l  Downloading https://files.pythonhosted.org/packages/f8/6b/8c1284f9f1b1cfd6323b0c64d1abf3ca7c98b5860aa18f40396e3a193b67/google_cloud_vision-0.41.0-py2.py3-none-any.whl (431kB)\n",
            "\r\u001b[K     |▊                               | 10kB 18.1MB/s eta 0:00:01\r\u001b[K     |█▌                              | 20kB 5.4MB/s eta 0:00:01\r\u001b[K     |██▎                             | 30kB 5.3MB/s eta 0:00:01\r\u001b[K     |███                             | 40kB 5.2MB/s eta 0:00:01\r\u001b[K     |███▉                            | 51kB 5.5MB/s eta 0:00:01\r\u001b[K     |████▋                           | 61kB 6.5MB/s eta 0:00:01\r\u001b[K     |█████▎                          | 71kB 5.9MB/s eta 0:00:01\r\u001b[K     |██████                          | 81kB 6.1MB/s eta 0:00:01\r\u001b[K     |██████▉                         | 92kB 6.7MB/s eta 0:00:01\r\u001b[K     |███████▋                        | 102kB 6.7MB/s eta 0:00:01\r\u001b[K     |████████▍                       | 112kB 6.7MB/s eta 0:00:01\r\u001b[K     |█████████▏                      | 122kB 6.7MB/s eta 0:00:01\r\u001b[K     |█████████▉                      | 133kB 6.7MB/s eta 0:00:01\r\u001b[K     |██████████▋                     | 143kB 6.7MB/s eta 0:00:01\r\u001b[K     |███████████▍                    | 153kB 6.7MB/s eta 0:00:01\r\u001b[K     |████████████▏                   | 163kB 6.7MB/s eta 0:00:01\r\u001b[K     |█████████████                   | 174kB 6.7MB/s eta 0:00:01\r\u001b[K     |█████████████▊                  | 184kB 6.7MB/s eta 0:00:01\r\u001b[K     |██████████████▍                 | 194kB 6.7MB/s eta 0:00:01\r\u001b[K     |███████████████▏                | 204kB 6.7MB/s eta 0:00:01\r\u001b[K     |████████████████                | 215kB 6.7MB/s eta 0:00:01\r\u001b[K     |████████████████▊               | 225kB 6.7MB/s eta 0:00:01\r\u001b[K     |█████████████████▌              | 235kB 6.7MB/s eta 0:00:01\r\u001b[K     |██████████████████▎             | 245kB 6.7MB/s eta 0:00:01\r\u001b[K     |███████████████████             | 256kB 6.7MB/s eta 0:00:01\r\u001b[K     |███████████████████▊            | 266kB 6.7MB/s eta 0:00:01\r\u001b[K     |████████████████████▌           | 276kB 6.7MB/s eta 0:00:01\r\u001b[K     |█████████████████████▎          | 286kB 6.7MB/s eta 0:00:01\r\u001b[K     |██████████████████████          | 296kB 6.7MB/s eta 0:00:01\r\u001b[K     |██████████████████████▉         | 307kB 6.7MB/s eta 0:00:01\r\u001b[K     |███████████████████████▌        | 317kB 6.7MB/s eta 0:00:01\r\u001b[K     |████████████████████████▎       | 327kB 6.7MB/s eta 0:00:01\r\u001b[K     |█████████████████████████       | 337kB 6.7MB/s eta 0:00:01\r\u001b[K     |█████████████████████████▉      | 348kB 6.7MB/s eta 0:00:01\r\u001b[K     |██████████████████████████▋     | 358kB 6.7MB/s eta 0:00:01\r\u001b[K     |███████████████████████████▍    | 368kB 6.7MB/s eta 0:00:01\r\u001b[K     |████████████████████████████    | 378kB 6.7MB/s eta 0:00:01\r\u001b[K     |████████████████████████████▉   | 389kB 6.7MB/s eta 0:00:01\r\u001b[K     |█████████████████████████████▋  | 399kB 6.7MB/s eta 0:00:01\r\u001b[K     |██████████████████████████████▍ | 409kB 6.7MB/s eta 0:00:01\r\u001b[K     |███████████████████████████████▏| 419kB 6.7MB/s eta 0:00:01\r\u001b[K     |████████████████████████████████| 430kB 6.7MB/s eta 0:00:01\r\u001b[K     |████████████████████████████████| 440kB 6.7MB/s \n",
            "\u001b[?25hRequirement already satisfied: google-api-core[grpc]<2.0.0dev,>=1.14.0 in /usr/local/lib/python3.6/dist-packages (from google-cloud-vision) (1.15.0)\n",
            "Requirement already satisfied: pytz in /usr/local/lib/python3.6/dist-packages (from google-api-core[grpc]<2.0.0dev,>=1.14.0->google-cloud-vision) (2018.9)\n",
            "Requirement already satisfied: setuptools>=34.0.0 in /usr/local/lib/python3.6/dist-packages (from google-api-core[grpc]<2.0.0dev,>=1.14.0->google-cloud-vision) (42.0.2)\n",
            "Requirement already satisfied: googleapis-common-protos<2.0dev,>=1.6.0 in /usr/local/lib/python3.6/dist-packages (from google-api-core[grpc]<2.0.0dev,>=1.14.0->google-cloud-vision) (1.6.0)\n",
            "Requirement already satisfied: google-auth<2.0dev,>=0.4.0 in /usr/local/lib/python3.6/dist-packages (from google-api-core[grpc]<2.0.0dev,>=1.14.0->google-cloud-vision) (1.4.2)\n",
            "Requirement already satisfied: protobuf>=3.4.0 in /usr/local/lib/python3.6/dist-packages (from google-api-core[grpc]<2.0.0dev,>=1.14.0->google-cloud-vision) (3.10.0)\n",
            "Requirement already satisfied: six>=1.10.0 in /usr/local/lib/python3.6/dist-packages (from google-api-core[grpc]<2.0.0dev,>=1.14.0->google-cloud-vision) (1.12.0)\n",
            "Requirement already satisfied: requests<3.0.0dev,>=2.18.0 in /usr/local/lib/python3.6/dist-packages (from google-api-core[grpc]<2.0.0dev,>=1.14.0->google-cloud-vision) (2.21.0)\n",
            "Requirement already satisfied: grpcio<2.0dev,>=1.8.2; extra == \"grpc\" in /usr/local/lib/python3.6/dist-packages (from google-api-core[grpc]<2.0.0dev,>=1.14.0->google-cloud-vision) (1.15.0)\n",
            "Requirement already satisfied: pyasn1-modules>=0.2.1 in /usr/local/lib/python3.6/dist-packages (from google-auth<2.0dev,>=0.4.0->google-api-core[grpc]<2.0.0dev,>=1.14.0->google-cloud-vision) (0.2.7)\n",
            "Requirement already satisfied: rsa>=3.1.4 in /usr/local/lib/python3.6/dist-packages (from google-auth<2.0dev,>=0.4.0->google-api-core[grpc]<2.0.0dev,>=1.14.0->google-cloud-vision) (4.0)\n",
            "Requirement already satisfied: cachetools>=2.0.0 in /usr/local/lib/python3.6/dist-packages (from google-auth<2.0dev,>=0.4.0->google-api-core[grpc]<2.0.0dev,>=1.14.0->google-cloud-vision) (4.0.0)\n",
            "Requirement already satisfied: idna<2.9,>=2.5 in /usr/local/lib/python3.6/dist-packages (from requests<3.0.0dev,>=2.18.0->google-api-core[grpc]<2.0.0dev,>=1.14.0->google-cloud-vision) (2.8)\n",
            "Requirement already satisfied: urllib3<1.25,>=1.21.1 in /usr/local/lib/python3.6/dist-packages (from requests<3.0.0dev,>=2.18.0->google-api-core[grpc]<2.0.0dev,>=1.14.0->google-cloud-vision) (1.24.3)\n",
            "Requirement already satisfied: chardet<3.1.0,>=3.0.2 in /usr/local/lib/python3.6/dist-packages (from requests<3.0.0dev,>=2.18.0->google-api-core[grpc]<2.0.0dev,>=1.14.0->google-cloud-vision) (3.0.4)\n",
            "Requirement already satisfied: certifi>=2017.4.17 in /usr/local/lib/python3.6/dist-packages (from requests<3.0.0dev,>=2.18.0->google-api-core[grpc]<2.0.0dev,>=1.14.0->google-cloud-vision) (2019.11.28)\n",
            "Requirement already satisfied: pyasn1<0.5.0,>=0.4.6 in /usr/local/lib/python3.6/dist-packages (from pyasn1-modules>=0.2.1->google-auth<2.0dev,>=0.4.0->google-api-core[grpc]<2.0.0dev,>=1.14.0->google-cloud-vision) (0.4.8)\n",
            "Installing collected packages: google-cloud-vision\n",
            "Successfully installed google-cloud-vision-0.41.0\n"
          ],
          "name": "stdout"
        },
        {
          "output_type": "display_data",
          "data": {
            "application/vnd.colab-display-data+json": {
              "pip_warning": {
                "packages": [
                  "google"
                ]
              }
            }
          },
          "metadata": {
            "tags": []
          }
        }
      ]
    },
    {
      "cell_type": "code",
      "metadata": {
        "id": "nP8m79oJ-bzv",
        "colab_type": "code",
        "colab": {}
      },
      "source": [
        "# Label Items in a street in China"
      ],
      "execution_count": 0,
      "outputs": []
    },
    {
      "cell_type": "code",
      "metadata": {
        "id": "sf-w6NgK1_9e",
        "colab_type": "code",
        "outputId": "35a90679-41f3-49c2-f2e5-a4ae046e1c00",
        "colab": {
          "base_uri": "https://localhost:8080/",
          "height": 221
        }
      },
      "source": [
        "from google.cloud import vision\n",
        "\n",
        "image_uri = 'gs://cloud-samples-data/vision/using_curl/shanghai.jpeg'\n",
        "\n",
        "client = vision.ImageAnnotatorClient()\n",
        "image = vision.types.Image()\n",
        "image.source.image_uri = image_uri\n",
        "\n",
        "response = client.label_detection(image=image)\n",
        "\n",
        "print('Labels (and confidence score):')\n",
        "print('=' * 79)\n",
        "for label in response.label_annotations:\n",
        "    print(f'{label.description} ({label.score*100.:.2f}%)')"
      ],
      "execution_count": 0,
      "outputs": [
        {
          "output_type": "stream",
          "text": [
            "Labels (and confidence score):\n",
            "===============================================================================\n",
            "People (95.05%)\n",
            "Street (89.12%)\n",
            "Mode of transport (89.09%)\n",
            "Transport (85.13%)\n",
            "Vehicle (84.69%)\n",
            "Snapshot (84.11%)\n",
            "Urban area (80.29%)\n",
            "Infrastructure (73.14%)\n",
            "Road (72.74%)\n",
            "Pedestrian (68.90%)\n"
          ],
          "name": "stdout"
        }
      ]
    },
    {
      "cell_type": "code",
      "metadata": {
        "id": "3yWDEk4f95fx",
        "colab_type": "code",
        "colab": {}
      },
      "source": [
        "# Text detection of an image of an otter crossing"
      ],
      "execution_count": 0,
      "outputs": []
    },
    {
      "cell_type": "code",
      "metadata": {
        "id": "HWYpAeic-ZYi",
        "colab_type": "code",
        "outputId": "2758a3b5-13e5-496e-e788-687e73c33d03",
        "colab": {
          "base_uri": "https://localhost:8080/",
          "height": 476
        }
      },
      "source": [
        "from google.cloud import vision\n",
        "\n",
        "image_uri = 'gs://cloud-vision-codelab/otter_crossing.jpg'\n",
        "\n",
        "client = vision.ImageAnnotatorClient()\n",
        "image = vision.types.Image()\n",
        "image.source.image_uri = image_uri\n",
        "\n",
        "response = client.text_detection(image=image)\n",
        "\n",
        "for text in response.text_annotations:\n",
        "    print('=' * 79)\n",
        "    print(f'\"{text.description}\"')\n",
        "    vertices = [f'({v.x},{v.y})' for v in text.bounding_poly.vertices]\n",
        "    print(f'bounds: {\",\".join(vertices)}')"
      ],
      "execution_count": 0,
      "outputs": [
        {
          "output_type": "stream",
          "text": [
            "===============================================================================\n",
            "\"CAUTION\n",
            "Otters crossing\n",
            "for next 6 miles\n",
            "\"\n",
            "bounds: (61,243),(251,243),(251,340),(61,340)\n",
            "===============================================================================\n",
            "\"CAUTION\"\n",
            "bounds: (75,245),(235,243),(235,269),(75,271)\n",
            "===============================================================================\n",
            "\"Otters\"\n",
            "bounds: (65,296),(140,297),(140,315),(65,314)\n",
            "===============================================================================\n",
            "\"crossing\"\n",
            "bounds: (151,295),(247,297),(247,318),(151,316)\n",
            "===============================================================================\n",
            "\"for\"\n",
            "bounds: (61,322),(94,322),(94,340),(61,340)\n",
            "===============================================================================\n",
            "\"next\"\n",
            "bounds: (106,322),(156,322),(156,340),(106,340)\n",
            "===============================================================================\n",
            "\"6\"\n",
            "bounds: (167,321),(180,321),(180,339),(167,339)\n",
            "===============================================================================\n",
            "\"miles\"\n",
            "bounds: (191,321),(251,321),(251,339),(191,339)\n"
          ],
          "name": "stdout"
        }
      ]
    },
    {
      "cell_type": "code",
      "metadata": {
        "id": "Dty1hqQq_arb",
        "colab_type": "code",
        "colab": {}
      },
      "source": [
        "# Emotional Face detection"
      ],
      "execution_count": 0,
      "outputs": []
    },
    {
      "cell_type": "code",
      "metadata": {
        "id": "p6dlYk6f_mmI",
        "colab_type": "code",
        "outputId": "3d20814a-4b8e-495d-bb4c-935478c4912d",
        "colab": {
          "base_uri": "https://localhost:8080/",
          "height": 153
        }
      },
      "source": [
        "from google.cloud import vision\n",
        "\n",
        "uri_base = 'gs://cloud-vision-codelab'\n",
        "pics = ['face_surprise.jpg', 'face_no_surprise.png']\n",
        "\n",
        "client = vision.ImageAnnotatorClient()\n",
        "image = vision.types.Image()\n",
        "\n",
        "for pic in pics:\n",
        "    image.source.image_uri = f'{uri_base}/{pic}'\n",
        "    response = client.face_detection(image=image)\n",
        "\n",
        "    print('=' * 79)\n",
        "    print(f'File: {pic}')\n",
        "    for face in response.face_annotations:\n",
        "        likelihood = vision.enums.Likelihood(face.surprise_likelihood)\n",
        "        vertices = [f'({v.x},{v.y})' for v in face.bounding_poly.vertices]\n",
        "        print(f'Face surprised: {likelihood.name}')\n",
        "        print(f'Face bounds: {\",\".join(vertices)}')"
      ],
      "execution_count": 0,
      "outputs": [
        {
          "output_type": "stream",
          "text": [
            "===============================================================================\n",
            "File: face_surprise.jpg\n",
            "Face surprised: LIKELY\n",
            "Face bounds: (105,460),(516,460),(516,938),(105,938)\n",
            "===============================================================================\n",
            "File: face_no_surprise.png\n",
            "Face surprised: VERY_UNLIKELY\n",
            "Face bounds: (126,0),(338,0),(338,202),(126,202)\n"
          ],
          "name": "stdout"
        }
      ]
    }
  ]
}